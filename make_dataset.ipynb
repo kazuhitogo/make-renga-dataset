{
 "cells": [
  {
   "cell_type": "code",
   "execution_count": 2,
   "id": "0eee1a88-dc17-4d92-a656-12bbe5bf3d74",
   "metadata": {},
   "outputs": [
    {
     "name": "stdout",
     "output_type": "stream",
     "text": [
      "Requirement already satisfied: python-Levenshtein in /opt/conda/lib/python3.10/site-packages (0.21.1)\n",
      "Requirement already satisfied: Levenshtein==0.21.1 in /opt/conda/lib/python3.10/site-packages (from python-Levenshtein) (0.21.1)\n",
      "Requirement already satisfied: rapidfuzz<4.0.0,>=2.3.0 in /opt/conda/lib/python3.10/site-packages (from Levenshtein==0.21.1->python-Levenshtein) (3.1.1)\n",
      "\u001b[33mWARNING: Running pip as the 'root' user can result in broken permissions and conflicting behaviour with the system package manager. It is recommended to use a virtual environment instead: https://pip.pypa.io/warnings/venv\u001b[0m\u001b[33m\n",
      "\u001b[0m"
     ]
    }
   ],
   "source": [
    "!pip install python-Levenshtein"
   ]
  },
  {
   "cell_type": "code",
   "execution_count": 3,
   "id": "1d6c060c-ee86-478a-a402-8d4e26721da5",
   "metadata": {
    "tags": []
   },
   "outputs": [],
   "source": [
    "# モジュールのインポート\n",
    "import json\n",
    "import urllib.request as req\n",
    "from bs4 import BeautifulSoup\n",
    "import time\n",
    "import os\n",
    "import pandas as pd\n",
    "from time import sleep\n",
    "import Levenshtein\n",
    "import urllib"
   ]
  },
  {
   "cell_type": "code",
   "execution_count": 4,
   "id": "0df9dd77-8806-451a-9e20-b872bb871f05",
   "metadata": {
    "tags": []
   },
   "outputs": [],
   "source": [
    "base_url = 'https://ja.wikisource.org/'\n",
    "work_list = [\n",
    "    '古今和歌集',\n",
    "    '新古今和歌集',\n",
    "]"
   ]
  },
  {
   "cell_type": "code",
   "execution_count": 5,
   "id": "178ee993-dd27-418c-9f49-19883aa3a1b6",
   "metadata": {
    "scrolled": true,
    "tags": []
   },
   "outputs": [],
   "source": [
    "text_list = []\n",
    "for work in work_list:\n",
    "    url = os.path.join(\n",
    "        base_url,\n",
    "        'wiki/'+urllib.parse.quote(work)\n",
    "    )\n",
    "    res = req.urlopen(url)\n",
    "    sleep(1)\n",
    "    soup = BeautifulSoup(res, 'html.parser')\n",
    "    # リンクのみを回収\n",
    "    link_list = []\n",
    "    for a in soup.select('a[href]'):\n",
    "        href = a.attrs['href']\n",
    "        title = a.string\n",
    "        link_list.append((title, href))\n",
    "    # 和歌があるリンクのみを回収\n",
    "    waka_link_list = []\n",
    "    for title, href in link_list:\n",
    "        if isinstance(title, str):\n",
    "            if ('巻' in title) or (title == '墨滅歌'):\n",
    "                waka_link_list.append(os.path.join(base_url,href[1:]))\n",
    "    for url in waka_link_list:\n",
    "        res = req.urlopen(url)\n",
    "        soup = BeautifulSoup(res, 'html.parser')\n",
    "        paragraphs = soup.select('p')\n",
    "        cnt = -1\n",
    "        for i,p in enumerate(paragraphs):\n",
    "            text_list.append(p.get_text().replace('\\n',''))\n",
    "        sleep(1)"
   ]
  },
  {
   "cell_type": "code",
   "execution_count": 6,
   "id": "d7fd2dcb-dd2d-499e-a8c3-ae83b3414d26",
   "metadata": {
    "tags": []
   },
   "outputs": [],
   "source": [
    "data = {\n",
    "    'kanji':[],\n",
    "    'hiragana_sep':[]\n",
    "}\n",
    "for i,text in enumerate(text_list):\n",
    "    if '－' in text:\n",
    "        data['hiragana_sep'].append(text)\n",
    "        data['kanji'].append(text_list[i-1])"
   ]
  },
  {
   "cell_type": "code",
   "execution_count": 7,
   "id": "e5989fb3-6810-4006-9b07-a519bcb2d816",
   "metadata": {
    "tags": []
   },
   "outputs": [],
   "source": [
    "df = pd.DataFrame(data)"
   ]
  },
  {
   "cell_type": "code",
   "execution_count": 8,
   "id": "f257f0e2-946f-4dca-9e50-d255a13b0664",
   "metadata": {
    "tags": []
   },
   "outputs": [],
   "source": [
    "def replace_kunojiten(text):\n",
    "    return text.replace('ほの〳〵','ほのぼの').replace('たえ〳〵','たえだえ').replace('つく〳〵','つくづく').replace('なか〳〵','中々').replace('かへす〳〵','返す返す').replace('まにまに〳〵','').replace('むら〳〵','むらむら').replace('中〳〵','中々').replace('いろ〳〵','色々').replace('よな〳〵','夜な夜な').replace('かつ〳〵','かつかつ').replace('かす〳〵','数々').replace('夜な〳〵','夜な夜な').replace('きり〳〵','きりぎり').replace('しは〳〵','しわしわ').replace('すゑ〳〵','すえずえ').replace('かき〳〵','がきかき').replace('はる〳〵','はるばる').replace('なく〳〵','なくなく').replace('よる〳〵','よるよる').replace('きぬ〳〵','きぬぎぬ').replace('よゐ〳〵','よひよひ').replace('かた〳〵','かたかた').replace('かれ〳〵','かれがれ').replace('さま〳〵','さまざま').replace('なれ〳〵','なれなれ').replace('あさな〳〵','あさなあさな').replace('うら〳〵','うらうら').replace('つれ〳〵','徒然').replace('いまや〳〵','いまやいまや').replace('もろ〳〵','もろもろ').replace('はし〳〵','はしはし')\n",
    "df['kanji'] = df['kanji'].apply(lambda x:replace_kunojiten(x))\n",
    "def replace_ichinojiten(text):\n",
    "    while text.find('ゝ') > 0:\n",
    "        index = text.find('ゝ')\n",
    "        replace_charcter = text[index-1]\n",
    "        text = text[:index] + replace_charcter + text[index+1:]\n",
    "    return text\n",
    "df['kanji'] = df['kanji'].apply(lambda x:replace_ichinojiten(x))"
   ]
  },
  {
   "cell_type": "code",
   "execution_count": 9,
   "id": "c7200425-90ab-4096-beee-0b9472d093b4",
   "metadata": {},
   "outputs": [],
   "source": [
    "def seperate_kanji_waka(kanji_waka,seperated_hiragana_waka):\n",
    "    hiragana_phrase_list = seperated_hiragana_waka.split('－')\n",
    "    seperated_kanji_phrase_list = []\n",
    "    i = 0\n",
    "    for hiragana_phrase in hiragana_phrase_list:\n",
    "        levenshtein_list = []\n",
    "        for j in range(len(kanji_waka)):\n",
    "            levenshtein_list.append(Levenshtein.distance(kanji_waka[i:j],hiragana_phrase))\n",
    "            if len(levenshtein_list)>=2 and levenshtein_list[-1] > levenshtein_list[-2]:\n",
    "                break\n",
    "        if len(seperated_kanji_phrase_list) == 4:\n",
    "            seperated_kanji_phrase_list.append(kanji_waka)\n",
    "        else:\n",
    "            seperated_kanji_phrase_list.append(kanji_waka[0:j-1])\n",
    "        kanji_waka = kanji_waka[j-1:]\n",
    "    return ' '.join(seperated_kanji_phrase_list)"
   ]
  },
  {
   "cell_type": "code",
   "execution_count": 10,
   "id": "dc28710d-88a3-449f-ac96-11001f105774",
   "metadata": {
    "tags": []
   },
   "outputs": [],
   "source": [
    "df['kanji'] = df.apply(lambda x: seperate_kanji_waka(x['kanji'], x['hiragana_sep']),axis=1)"
   ]
  },
  {
   "cell_type": "code",
   "execution_count": 11,
   "id": "7e0f1809-f5f0-4885-be5b-f5b2e445b298",
   "metadata": {
    "tags": []
   },
   "outputs": [],
   "source": [
    "df['kaminoku'] = df['kanji'].apply(lambda x: ''.join(x.split(' ')[:3]))\n",
    "df['shimonoku'] = df['kanji'].apply(lambda x: ''.join(x.split(' ')[3:]))"
   ]
  },
  {
   "cell_type": "code",
   "execution_count": 12,
   "id": "39175eb6-5c00-4dec-ac19-717861b38c23",
   "metadata": {
    "tags": []
   },
   "outputs": [],
   "source": [
    "dataset_list = []\n",
    "for i,row in enumerate(df.itertuples()):\n",
    "    dataset_list.append({\n",
    "        'index': i,\n",
    "        'instruction': 'input は短歌の上の句です。下の句を詠んでください。',\n",
    "        'input': row.kaminoku,\n",
    "        'output': row.shimonoku,\n",
    "        'category': 'open_qa'\n",
    "    })\n",
    "\n",
    "dataset_list.append({\n",
    "    'index' : dataset_list[-1]['index'] + 1,\n",
    "    'instruction': 'input は短歌の上の句です。下の句を詠んでください。',\n",
    "    'input': '父の日にこれ手紙だよ手渡され',\n",
    "    'output': '読んだら息子の欲しいものリスト',\n",
    "    'category': 'open_qa'\n",
    "})\n",
    "dataset_list.append({\n",
    "    'index' : dataset_list[-1]['index'] + 1,\n",
    "    'instruction': 'input は短歌の上の句です。下の句を詠んでください。',\n",
    "    'input': '事務事故の再発防止禁じ手は',\n",
    "    'output': '気をつけますと ダブルチェック',\n",
    "    'category': 'open_qa'\n",
    "})\n",
    "dataset_list.append({\n",
    "    'index' : dataset_list[-1]['index'] + 1,\n",
    "    'instruction': 'input は短歌の上の句です。下の句を詠んでください。',\n",
    "    'input': '寝かしつけ全く寝ない子供たち',\n",
    "    'output': 'その無駄時間俺寝たかった',\n",
    "    'category': 'open_qa'\n",
    "})\n",
    "dataset_list.append({\n",
    "    'index' : dataset_list[-1]['index'] + 1,\n",
    "    'instruction': 'input は短歌の上の句です。下の句を詠んでください。',\n",
    "    'input': 'データあるうまい言葉に騙される',\n",
    "    'output': '実態いつもガベージコレクション',\n",
    "    'category': 'open_qa'\n",
    "})"
   ]
  },
  {
   "cell_type": "code",
   "execution_count": 13,
   "id": "39efeeca-2568-48a6-aee2-c269f0db1424",
   "metadata": {
    "tags": []
   },
   "outputs": [],
   "source": [
    "with open('dataset.json','w') as f:\n",
    "    f.write(json.dumps(dataset_list, ensure_ascii=False, indent=2))"
   ]
  },
  {
   "cell_type": "code",
   "execution_count": 14,
   "id": "c633554f-78f3-4666-95e4-c9e8098e1660",
   "metadata": {},
   "outputs": [
    {
     "name": "stdout",
     "output_type": "stream",
     "text": [
      "[\n",
      "  {\n",
      "    \"index\": 0,\n",
      "    \"instruction\": \"input は短歌の上の句です。下の句を詠んでください。\",\n",
      "    \"input\": \"としのうちに春はきにけりひととせを\",\n",
      "    \"output\": \"こそとやいはむことしとやいはむ\",\n",
      "    \"category\": \"open_qa\"\n",
      "  },\n",
      "  {\n",
      "    \"index\": 1,\n",
      "    \"instruction\": \"input は短歌の上の句です。下の句を詠んでください。\",\n",
      "    \"input\": \"袖ひちてむすひし水のこほれるを\",\n",
      "    \"output\": \"春立つけふの風やとくらむ\",\n",
      "    \"category\": \"open_qa\"\n",
      "  },\n"
     ]
    }
   ],
   "source": [
    "!head -n15 dataset.json"
   ]
  },
  {
   "cell_type": "code",
   "execution_count": 15,
   "id": "b97bcb9d-11a1-400c-a574-4010e568a54a",
   "metadata": {
    "tags": []
   },
   "outputs": [
    {
     "name": "stdout",
     "output_type": "stream",
     "text": [
      "  {\n",
      "    \"index\": 3089,\n",
      "    \"instruction\": \"input は短歌の上の句です。下の句を詠んでください。\",\n",
      "    \"input\": \"父の日にこれ手紙だよ手渡され\",\n",
      "    \"output\": \"読んだら息子の欲しいものリスト\",\n",
      "    \"category\": \"open_qa\"\n",
      "  },\n",
      "  {\n",
      "    \"index\": 3090,\n",
      "    \"instruction\": \"input は短歌の上の句です。下の句を詠んでください。\",\n",
      "    \"input\": \"事務事故の再発防止禁じ手は\",\n",
      "    \"output\": \"気をつけますと ダブルチェック\",\n",
      "    \"category\": \"open_qa\"\n",
      "  },\n",
      "  {\n",
      "    \"index\": 3091,\n",
      "    \"instruction\": \"input は短歌の上の句です。下の句を詠んでください。\",\n",
      "    \"input\": \"寝かしつけ全く寝ない子供たち\",\n",
      "    \"output\": \"その無駄時間俺寝たかった\",\n",
      "    \"category\": \"open_qa\"\n",
      "  },\n",
      "  {\n",
      "    \"index\": 3092,\n",
      "    \"instruction\": \"input は短歌の上の句です。下の句を詠んでください。\",\n",
      "    \"input\": \"データあるうまい言葉に騙される\",\n",
      "    \"output\": \"実態いつもガベージコレクション\",\n",
      "    \"category\": \"open_qa\"\n",
      "  }\n",
      "]"
     ]
    }
   ],
   "source": [
    "!tail -n29 dataset.json"
   ]
  },
  {
   "cell_type": "code",
   "execution_count": null,
   "id": "b048daf2-f762-4ab8-9ad8-ab3f823e5b70",
   "metadata": {},
   "outputs": [],
   "source": []
  }
 ],
 "metadata": {
  "availableInstances": [
   {
    "_defaultOrder": 0,
    "_isFastLaunch": true,
    "category": "General purpose",
    "gpuNum": 0,
    "hideHardwareSpecs": false,
    "memoryGiB": 4,
    "name": "ml.t3.medium",
    "vcpuNum": 2
   },
   {
    "_defaultOrder": 1,
    "_isFastLaunch": false,
    "category": "General purpose",
    "gpuNum": 0,
    "hideHardwareSpecs": false,
    "memoryGiB": 8,
    "name": "ml.t3.large",
    "vcpuNum": 2
   },
   {
    "_defaultOrder": 2,
    "_isFastLaunch": false,
    "category": "General purpose",
    "gpuNum": 0,
    "hideHardwareSpecs": false,
    "memoryGiB": 16,
    "name": "ml.t3.xlarge",
    "vcpuNum": 4
   },
   {
    "_defaultOrder": 3,
    "_isFastLaunch": false,
    "category": "General purpose",
    "gpuNum": 0,
    "hideHardwareSpecs": false,
    "memoryGiB": 32,
    "name": "ml.t3.2xlarge",
    "vcpuNum": 8
   },
   {
    "_defaultOrder": 4,
    "_isFastLaunch": true,
    "category": "General purpose",
    "gpuNum": 0,
    "hideHardwareSpecs": false,
    "memoryGiB": 8,
    "name": "ml.m5.large",
    "vcpuNum": 2
   },
   {
    "_defaultOrder": 5,
    "_isFastLaunch": false,
    "category": "General purpose",
    "gpuNum": 0,
    "hideHardwareSpecs": false,
    "memoryGiB": 16,
    "name": "ml.m5.xlarge",
    "vcpuNum": 4
   },
   {
    "_defaultOrder": 6,
    "_isFastLaunch": false,
    "category": "General purpose",
    "gpuNum": 0,
    "hideHardwareSpecs": false,
    "memoryGiB": 32,
    "name": "ml.m5.2xlarge",
    "vcpuNum": 8
   },
   {
    "_defaultOrder": 7,
    "_isFastLaunch": false,
    "category": "General purpose",
    "gpuNum": 0,
    "hideHardwareSpecs": false,
    "memoryGiB": 64,
    "name": "ml.m5.4xlarge",
    "vcpuNum": 16
   },
   {
    "_defaultOrder": 8,
    "_isFastLaunch": false,
    "category": "General purpose",
    "gpuNum": 0,
    "hideHardwareSpecs": false,
    "memoryGiB": 128,
    "name": "ml.m5.8xlarge",
    "vcpuNum": 32
   },
   {
    "_defaultOrder": 9,
    "_isFastLaunch": false,
    "category": "General purpose",
    "gpuNum": 0,
    "hideHardwareSpecs": false,
    "memoryGiB": 192,
    "name": "ml.m5.12xlarge",
    "vcpuNum": 48
   },
   {
    "_defaultOrder": 10,
    "_isFastLaunch": false,
    "category": "General purpose",
    "gpuNum": 0,
    "hideHardwareSpecs": false,
    "memoryGiB": 256,
    "name": "ml.m5.16xlarge",
    "vcpuNum": 64
   },
   {
    "_defaultOrder": 11,
    "_isFastLaunch": false,
    "category": "General purpose",
    "gpuNum": 0,
    "hideHardwareSpecs": false,
    "memoryGiB": 384,
    "name": "ml.m5.24xlarge",
    "vcpuNum": 96
   },
   {
    "_defaultOrder": 12,
    "_isFastLaunch": false,
    "category": "General purpose",
    "gpuNum": 0,
    "hideHardwareSpecs": false,
    "memoryGiB": 8,
    "name": "ml.m5d.large",
    "vcpuNum": 2
   },
   {
    "_defaultOrder": 13,
    "_isFastLaunch": false,
    "category": "General purpose",
    "gpuNum": 0,
    "hideHardwareSpecs": false,
    "memoryGiB": 16,
    "name": "ml.m5d.xlarge",
    "vcpuNum": 4
   },
   {
    "_defaultOrder": 14,
    "_isFastLaunch": false,
    "category": "General purpose",
    "gpuNum": 0,
    "hideHardwareSpecs": false,
    "memoryGiB": 32,
    "name": "ml.m5d.2xlarge",
    "vcpuNum": 8
   },
   {
    "_defaultOrder": 15,
    "_isFastLaunch": false,
    "category": "General purpose",
    "gpuNum": 0,
    "hideHardwareSpecs": false,
    "memoryGiB": 64,
    "name": "ml.m5d.4xlarge",
    "vcpuNum": 16
   },
   {
    "_defaultOrder": 16,
    "_isFastLaunch": false,
    "category": "General purpose",
    "gpuNum": 0,
    "hideHardwareSpecs": false,
    "memoryGiB": 128,
    "name": "ml.m5d.8xlarge",
    "vcpuNum": 32
   },
   {
    "_defaultOrder": 17,
    "_isFastLaunch": false,
    "category": "General purpose",
    "gpuNum": 0,
    "hideHardwareSpecs": false,
    "memoryGiB": 192,
    "name": "ml.m5d.12xlarge",
    "vcpuNum": 48
   },
   {
    "_defaultOrder": 18,
    "_isFastLaunch": false,
    "category": "General purpose",
    "gpuNum": 0,
    "hideHardwareSpecs": false,
    "memoryGiB": 256,
    "name": "ml.m5d.16xlarge",
    "vcpuNum": 64
   },
   {
    "_defaultOrder": 19,
    "_isFastLaunch": false,
    "category": "General purpose",
    "gpuNum": 0,
    "hideHardwareSpecs": false,
    "memoryGiB": 384,
    "name": "ml.m5d.24xlarge",
    "vcpuNum": 96
   },
   {
    "_defaultOrder": 20,
    "_isFastLaunch": false,
    "category": "General purpose",
    "gpuNum": 0,
    "hideHardwareSpecs": true,
    "memoryGiB": 0,
    "name": "ml.geospatial.interactive",
    "supportedImageNames": [
     "sagemaker-geospatial-v1-0"
    ],
    "vcpuNum": 0
   },
   {
    "_defaultOrder": 21,
    "_isFastLaunch": true,
    "category": "Compute optimized",
    "gpuNum": 0,
    "hideHardwareSpecs": false,
    "memoryGiB": 4,
    "name": "ml.c5.large",
    "vcpuNum": 2
   },
   {
    "_defaultOrder": 22,
    "_isFastLaunch": false,
    "category": "Compute optimized",
    "gpuNum": 0,
    "hideHardwareSpecs": false,
    "memoryGiB": 8,
    "name": "ml.c5.xlarge",
    "vcpuNum": 4
   },
   {
    "_defaultOrder": 23,
    "_isFastLaunch": false,
    "category": "Compute optimized",
    "gpuNum": 0,
    "hideHardwareSpecs": false,
    "memoryGiB": 16,
    "name": "ml.c5.2xlarge",
    "vcpuNum": 8
   },
   {
    "_defaultOrder": 24,
    "_isFastLaunch": false,
    "category": "Compute optimized",
    "gpuNum": 0,
    "hideHardwareSpecs": false,
    "memoryGiB": 32,
    "name": "ml.c5.4xlarge",
    "vcpuNum": 16
   },
   {
    "_defaultOrder": 25,
    "_isFastLaunch": false,
    "category": "Compute optimized",
    "gpuNum": 0,
    "hideHardwareSpecs": false,
    "memoryGiB": 72,
    "name": "ml.c5.9xlarge",
    "vcpuNum": 36
   },
   {
    "_defaultOrder": 26,
    "_isFastLaunch": false,
    "category": "Compute optimized",
    "gpuNum": 0,
    "hideHardwareSpecs": false,
    "memoryGiB": 96,
    "name": "ml.c5.12xlarge",
    "vcpuNum": 48
   },
   {
    "_defaultOrder": 27,
    "_isFastLaunch": false,
    "category": "Compute optimized",
    "gpuNum": 0,
    "hideHardwareSpecs": false,
    "memoryGiB": 144,
    "name": "ml.c5.18xlarge",
    "vcpuNum": 72
   },
   {
    "_defaultOrder": 28,
    "_isFastLaunch": false,
    "category": "Compute optimized",
    "gpuNum": 0,
    "hideHardwareSpecs": false,
    "memoryGiB": 192,
    "name": "ml.c5.24xlarge",
    "vcpuNum": 96
   },
   {
    "_defaultOrder": 29,
    "_isFastLaunch": true,
    "category": "Accelerated computing",
    "gpuNum": 1,
    "hideHardwareSpecs": false,
    "memoryGiB": 16,
    "name": "ml.g4dn.xlarge",
    "vcpuNum": 4
   },
   {
    "_defaultOrder": 30,
    "_isFastLaunch": false,
    "category": "Accelerated computing",
    "gpuNum": 1,
    "hideHardwareSpecs": false,
    "memoryGiB": 32,
    "name": "ml.g4dn.2xlarge",
    "vcpuNum": 8
   },
   {
    "_defaultOrder": 31,
    "_isFastLaunch": false,
    "category": "Accelerated computing",
    "gpuNum": 1,
    "hideHardwareSpecs": false,
    "memoryGiB": 64,
    "name": "ml.g4dn.4xlarge",
    "vcpuNum": 16
   },
   {
    "_defaultOrder": 32,
    "_isFastLaunch": false,
    "category": "Accelerated computing",
    "gpuNum": 1,
    "hideHardwareSpecs": false,
    "memoryGiB": 128,
    "name": "ml.g4dn.8xlarge",
    "vcpuNum": 32
   },
   {
    "_defaultOrder": 33,
    "_isFastLaunch": false,
    "category": "Accelerated computing",
    "gpuNum": 4,
    "hideHardwareSpecs": false,
    "memoryGiB": 192,
    "name": "ml.g4dn.12xlarge",
    "vcpuNum": 48
   },
   {
    "_defaultOrder": 34,
    "_isFastLaunch": false,
    "category": "Accelerated computing",
    "gpuNum": 1,
    "hideHardwareSpecs": false,
    "memoryGiB": 256,
    "name": "ml.g4dn.16xlarge",
    "vcpuNum": 64
   },
   {
    "_defaultOrder": 35,
    "_isFastLaunch": false,
    "category": "Accelerated computing",
    "gpuNum": 1,
    "hideHardwareSpecs": false,
    "memoryGiB": 61,
    "name": "ml.p3.2xlarge",
    "vcpuNum": 8
   },
   {
    "_defaultOrder": 36,
    "_isFastLaunch": false,
    "category": "Accelerated computing",
    "gpuNum": 4,
    "hideHardwareSpecs": false,
    "memoryGiB": 244,
    "name": "ml.p3.8xlarge",
    "vcpuNum": 32
   },
   {
    "_defaultOrder": 37,
    "_isFastLaunch": false,
    "category": "Accelerated computing",
    "gpuNum": 8,
    "hideHardwareSpecs": false,
    "memoryGiB": 488,
    "name": "ml.p3.16xlarge",
    "vcpuNum": 64
   },
   {
    "_defaultOrder": 38,
    "_isFastLaunch": false,
    "category": "Accelerated computing",
    "gpuNum": 8,
    "hideHardwareSpecs": false,
    "memoryGiB": 768,
    "name": "ml.p3dn.24xlarge",
    "vcpuNum": 96
   },
   {
    "_defaultOrder": 39,
    "_isFastLaunch": false,
    "category": "Memory Optimized",
    "gpuNum": 0,
    "hideHardwareSpecs": false,
    "memoryGiB": 16,
    "name": "ml.r5.large",
    "vcpuNum": 2
   },
   {
    "_defaultOrder": 40,
    "_isFastLaunch": false,
    "category": "Memory Optimized",
    "gpuNum": 0,
    "hideHardwareSpecs": false,
    "memoryGiB": 32,
    "name": "ml.r5.xlarge",
    "vcpuNum": 4
   },
   {
    "_defaultOrder": 41,
    "_isFastLaunch": false,
    "category": "Memory Optimized",
    "gpuNum": 0,
    "hideHardwareSpecs": false,
    "memoryGiB": 64,
    "name": "ml.r5.2xlarge",
    "vcpuNum": 8
   },
   {
    "_defaultOrder": 42,
    "_isFastLaunch": false,
    "category": "Memory Optimized",
    "gpuNum": 0,
    "hideHardwareSpecs": false,
    "memoryGiB": 128,
    "name": "ml.r5.4xlarge",
    "vcpuNum": 16
   },
   {
    "_defaultOrder": 43,
    "_isFastLaunch": false,
    "category": "Memory Optimized",
    "gpuNum": 0,
    "hideHardwareSpecs": false,
    "memoryGiB": 256,
    "name": "ml.r5.8xlarge",
    "vcpuNum": 32
   },
   {
    "_defaultOrder": 44,
    "_isFastLaunch": false,
    "category": "Memory Optimized",
    "gpuNum": 0,
    "hideHardwareSpecs": false,
    "memoryGiB": 384,
    "name": "ml.r5.12xlarge",
    "vcpuNum": 48
   },
   {
    "_defaultOrder": 45,
    "_isFastLaunch": false,
    "category": "Memory Optimized",
    "gpuNum": 0,
    "hideHardwareSpecs": false,
    "memoryGiB": 512,
    "name": "ml.r5.16xlarge",
    "vcpuNum": 64
   },
   {
    "_defaultOrder": 46,
    "_isFastLaunch": false,
    "category": "Memory Optimized",
    "gpuNum": 0,
    "hideHardwareSpecs": false,
    "memoryGiB": 768,
    "name": "ml.r5.24xlarge",
    "vcpuNum": 96
   },
   {
    "_defaultOrder": 47,
    "_isFastLaunch": false,
    "category": "Accelerated computing",
    "gpuNum": 1,
    "hideHardwareSpecs": false,
    "memoryGiB": 16,
    "name": "ml.g5.xlarge",
    "vcpuNum": 4
   },
   {
    "_defaultOrder": 48,
    "_isFastLaunch": false,
    "category": "Accelerated computing",
    "gpuNum": 1,
    "hideHardwareSpecs": false,
    "memoryGiB": 32,
    "name": "ml.g5.2xlarge",
    "vcpuNum": 8
   },
   {
    "_defaultOrder": 49,
    "_isFastLaunch": false,
    "category": "Accelerated computing",
    "gpuNum": 1,
    "hideHardwareSpecs": false,
    "memoryGiB": 64,
    "name": "ml.g5.4xlarge",
    "vcpuNum": 16
   },
   {
    "_defaultOrder": 50,
    "_isFastLaunch": false,
    "category": "Accelerated computing",
    "gpuNum": 1,
    "hideHardwareSpecs": false,
    "memoryGiB": 128,
    "name": "ml.g5.8xlarge",
    "vcpuNum": 32
   },
   {
    "_defaultOrder": 51,
    "_isFastLaunch": false,
    "category": "Accelerated computing",
    "gpuNum": 1,
    "hideHardwareSpecs": false,
    "memoryGiB": 256,
    "name": "ml.g5.16xlarge",
    "vcpuNum": 64
   },
   {
    "_defaultOrder": 52,
    "_isFastLaunch": false,
    "category": "Accelerated computing",
    "gpuNum": 4,
    "hideHardwareSpecs": false,
    "memoryGiB": 192,
    "name": "ml.g5.12xlarge",
    "vcpuNum": 48
   },
   {
    "_defaultOrder": 53,
    "_isFastLaunch": false,
    "category": "Accelerated computing",
    "gpuNum": 4,
    "hideHardwareSpecs": false,
    "memoryGiB": 384,
    "name": "ml.g5.24xlarge",
    "vcpuNum": 96
   },
   {
    "_defaultOrder": 54,
    "_isFastLaunch": false,
    "category": "Accelerated computing",
    "gpuNum": 8,
    "hideHardwareSpecs": false,
    "memoryGiB": 768,
    "name": "ml.g5.48xlarge",
    "vcpuNum": 192
   },
   {
    "_defaultOrder": 55,
    "_isFastLaunch": false,
    "category": "Accelerated computing",
    "gpuNum": 8,
    "hideHardwareSpecs": false,
    "memoryGiB": 1152,
    "name": "ml.p4d.24xlarge",
    "vcpuNum": 96
   },
   {
    "_defaultOrder": 56,
    "_isFastLaunch": false,
    "category": "Accelerated computing",
    "gpuNum": 8,
    "hideHardwareSpecs": false,
    "memoryGiB": 1152,
    "name": "ml.p4de.24xlarge",
    "vcpuNum": 96
   }
  ],
  "instance_type": "ml.t3.medium",
  "kernelspec": {
   "display_name": "Python 3 (Data Science 3.0)",
   "language": "python",
   "name": "python3__SAGEMAKER_INTERNAL__arn:aws:sagemaker:us-east-1:081325390199:image/sagemaker-data-science-310-v1"
  },
  "language_info": {
   "codemirror_mode": {
    "name": "ipython",
    "version": 3
   },
   "file_extension": ".py",
   "mimetype": "text/x-python",
   "name": "python",
   "nbconvert_exporter": "python",
   "pygments_lexer": "ipython3",
   "version": "3.10.6"
  }
 },
 "nbformat": 4,
 "nbformat_minor": 5
}
